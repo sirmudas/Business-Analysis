{
 "cells": [
  {
    "cell_type": "code",
   "execution_count": 1,
   "id": "583592c2",
   "metadata": {
    "_cell_guid": "b1076dfc-b9ad-4769-8c92-a6c4dae69d19",
    "_uuid": "8f2839f25d086af736a60e9eeb907d3b93b6e0e5",
    "execution": {
     "iopub.execute_input": "2024-06-03T21:01:10.504416Z",
     "iopub.status.busy": "2024-06-03T21:01:10.504053Z",
     "iopub.status.idle": "2024-06-03T21:01:12.838250Z",
     "shell.execute_reply": "2024-06-03T21:01:12.837104Z"
    },
    "papermill": {
     "duration": 2.356575,
     "end_time": "2024-06-03T21:01:12.841818",
     "exception": false,
     "start_time": "2024-06-03T21:01:10.485243",
     "status": "completed"
    },
    "tags": []
   },
   "outputs": [],
   "source": [
    "import numpy as np\n",
    "import pandas as pd\n",
    "import matplotlib.pyplot as plt\n",
    "import seaborn as sns "
   ]
  },
  {
   "cell_type": "markdown",
   "id": "eaac0822",
   "metadata": {
    "papermill": {
     "duration": 0.015126,
     "end_time": "2024-06-03T21:01:12.872557",
     "exception": false,
     "start_time": "2024-06-03T21:01:12.857431",
     "status": "completed"
    },
    "tags": []
   },
   "source": [
    "After Importing required Library we move on to reading datasets"
   ]
  },
  {
   "cell_type": "code",
   "execution_count": 2,
   "id": "cd0ea630",
   "metadata": {
    "execution": {
     "iopub.execute_input": "2024-06-03T21:01:12.905117Z",
     "iopub.status.busy": "2024-06-03T21:01:12.904548Z",
     "iopub.status.idle": "2024-06-03T21:01:12.925762Z",
     "shell.execute_reply": "2024-06-03T21:01:12.924663Z"
    },
    "papermill": {
     "duration": 0.040484,
     "end_time": "2024-06-03T21:01:12.928414",
     "exception": false,
     "start_time": "2024-06-03T21:01:12.887930",
     "status": "completed"
    },
    "tags": []
   },
   "outputs": [],
   "source": [
    "df= pd.read_csv('/kaggle/input/e-commerce-customer-behavior-dataset/E-commerce Customer Behavior - Sheet1.csv')"
   ]
  },
  {
   "cell_type": "markdown",
   "id": "025d80a8",
   "metadata": {
    "papermill": {
     "duration": 0.015384,
     "end_time": "2024-06-03T21:01:12.959464",
     "exception": false,
     "start_time": "2024-06-03T21:01:12.944080",
     "status": "completed"
    },
    "tags": []
   },
   "source": [
    "# Exploring Data"
   ]
  },
  {
   "cell_type": "code",
   "execution_count": 3,
   "id": "0cfaa26c",
   "metadata": {
    "execution": {
     "iopub.execute_input": "2024-06-03T21:01:12.992985Z",
     "iopub.status.busy": "2024-06-03T21:01:12.992064Z",
     "iopub.status.idle": "2024-06-03T21:01:13.000673Z",
     "shell.execute_reply": "2024-06-03T21:01:12.999307Z"
    },
    "papermill": {
     "duration": 0.029259,
     "end_time": "2024-06-03T21:01:13.004050",
     "exception": false,
     "start_time": "2024-06-03T21:01:12.974791",
     "status": "completed"
    },
    "tags": []
   },
   "outputs": [
    {
     "data": {
      "text/plain": [
       "(350, 11)"
      ]
     },
     "execution_count": 3,
     "metadata": {},
     "output_type": "execute_result"
    }
   ],
   "source": [
    "df.shape\n"
   ]
  },
  {
   "cell_type": "code",
   "execution_count": 4,
   "id": "a0462d67",
   "metadata": {
    "execution": {
     "iopub.execute_input": "2024-06-03T21:01:13.037884Z",
     "iopub.status.busy": "2024-06-03T21:01:13.037471Z",
     "iopub.status.idle": "2024-06-03T21:01:13.066885Z",
     "shell.execute_reply": "2024-06-03T21:01:13.065772Z"
    },
    "papermill": {
     "duration": 0.049381,
     "end_time": "2024-06-03T21:01:13.069148",
     "exception": false,
     "start_time": "2024-06-03T21:01:13.019767",
     "status": "completed"
    },
    "tags": []
   },
   "outputs": [
    {
     "data": {
      "text/html": [
       "<div>\n",
       "<style scoped>\n",
       "    .dataframe tbody tr th:only-of-type {\n",
       "        vertical-align: middle;\n",
       "    }\n",
       "\n",
       "    .dataframe tbody tr th {\n",
       "        vertical-align: top;\n",
       "    }\n",
       "\n",
       "    .dataframe thead th {\n",
       "        text-align: right;\n",
       "    }\n",
       "</style>\n",
       "<table border=\"1\" class=\"dataframe\">\n",
       "  <thead>\n",
       "    <tr style=\"text-align: right;\">\n",
       "      <th></th>\n",
       "      <th>Customer ID</th>\n",
       "      <th>Gender</th>\n",
       "      <th>Age</th>\n",
       "      <th>City</th>\n",
       "      <th>Membership Type</th>\n",
       "      <th>Total Spend</th>\n",
       "      <th>Items Purchased</th>\n",
       "      <th>Average Rating</th>\n",
       "      <th>Discount Applied</th>\n",
       "      <th>Days Since Last Purchase</th>\n",
       "      <th>Satisfaction Level</th>\n",
       "    </tr>\n",
       "  </thead>\n",
       "  <tbody>\n",
       "    <tr>\n",
       "      <th>0</th>\n",
       "      <td>101</td>\n",
       "      <td>Female</td>\n",
       "      <td>29</td>\n",
       "      <td>New York</td>\n",
       "      <td>Gold</td>\n",
       "      <td>1120.20</td>\n",
       "      <td>14</td>\n",
       "      <td>4.6</td>\n",
       "      <td>True</td>\n",
       "      <td>25</td>\n",
       "      <td>Satisfied</td>\n",
       "    </tr>\n",
       "    <tr>\n",
       "      <th>1</th>\n",
       "      <td>102</td>\n",
       "      <td>Male</td>\n",
       "      <td>34</td>\n",
       "      <td>Los Angeles</td>\n",
       "      <td>Silver</td>\n",
       "      <td>780.50</td>\n",
       "      <td>11</td>\n",
       "      <td>4.1</td>\n",
       "      <td>False</td>\n",
       "      <td>18</td>\n",
       "      <td>Neutral</td>\n",
       "    </tr>\n",
       "    <tr>\n",
       "      <th>2</th>\n",
       "      <td>103</td>\n",
       "      <td>Female</td>\n",
       "      <td>43</td>\n",
       "      <td>Chicago</td>\n",
       "      <td>Bronze</td>\n",
       "      <td>510.75</td>\n",
       "      <td>9</td>\n",
       "      <td>3.4</td>\n",
       "      <td>True</td>\n",
       "      <td>42</td>\n",
       "      <td>Unsatisfied</td>\n",
       "    </tr>\n",
       "    <tr>\n",
       "      <th>3</th>\n",
       "      <td>104</td>\n",
       "      <td>Male</td>\n",
       "      <td>30</td>\n",
       "      <td>San Francisco</td>\n",
       "      <td>Gold</td>\n",
       "      <td>1480.30</td>\n",
       "      <td>19</td>\n",
       "      <td>4.7</td>\n",
       "      <td>False</td>\n",
       "      <td>12</td>\n",
       "      <td>Satisfied</td>\n",
       "    </tr>\n",
       "    <tr>\n",
       "      <th>4</th>\n",
       "      <td>105</td>\n",
       "      <td>Male</td>\n",
       "      <td>27</td>\n",
       "      <td>Miami</td>\n",
       "      <td>Silver</td>\n",
       "      <td>720.40</td>\n",
       "      <td>13</td>\n",
       "      <td>4.0</td>\n",
       "      <td>True</td>\n",
       "      <td>55</td>\n",
       "      <td>Unsatisfied</td>\n",
       "    </tr>\n",
       "  </tbody>\n",
       "</table>\n",
       "</div>"
      ],
      "text/plain": [
       "   Customer ID  Gender  Age           City Membership Type  Total Spend  \\\n",
       "0          101  Female   29       New York            Gold      1120.20   \n",
       "1          102    Male   34    Los Angeles          Silver       780.50   \n",
       "2          103  Female   43        Chicago          Bronze       510.75   \n",
       "3          104    Male   30  San Francisco            Gold      1480.30   \n",
       "4          105    Male   27          Miami          Silver       720.40   \n",
       "\n",
       "   Items Purchased  Average Rating  Discount Applied  \\\n",
       "0               14             4.6              True   \n",
       "1               11             4.1             False   \n",
       "2                9             3.4              True   \n",
       "3               19             4.7             False   \n",
       "4               13             4.0              True   \n",
       "\n",
       "   Days Since Last Purchase Satisfaction Level  \n",
       "0                        25          Satisfied  \n",
       "1                        18            Neutral  \n",
       "2                        42        Unsatisfied  \n",
       "3                        12          Satisfied  \n",
       "4                        55        Unsatisfied  "
      ]
     },
     "execution_count": 4,
     "metadata": {},
     "output_type": "execute_result"
    }
   ],
   "source": [
    "df.head()\n",
    "\n"
   ]
  },
  {
   "cell_type": "code",
   "execution_count": 5,
   "id": "3273ea29",
   "metadata": {
    "execution": {
     "iopub.execute_input": "2024-06-03T21:01:13.102381Z",
     "iopub.status.busy": "2024-06-03T21:01:13.102026Z",
     "iopub.status.idle": "2024-06-03T21:01:13.118911Z",
     "shell.execute_reply": "2024-06-03T21:01:13.117716Z"
    },
    "papermill": {
     "duration": 0.036378,
     "end_time": "2024-06-03T21:01:13.121366",
     "exception": false,
     "start_time": "2024-06-03T21:01:13.084988",
     "status": "completed"
    },
    "tags": []
   },
   "outputs": [
    {
     "data": {
      "text/html": [
       "<div>\n",
       "<style scoped>\n",
       "    .dataframe tbody tr th:only-of-type {\n",
       "        vertical-align: middle;\n",
       "    }\n",
       "\n",
       "    .dataframe tbody tr th {\n",
       "        vertical-align: top;\n",
       "    }\n",
       "\n",
       "    .dataframe thead th {\n",
       "        text-align: right;\n",
       "    }\n",
       "</style>\n",
       "<table border=\"1\" class=\"dataframe\">\n",
       "  <thead>\n",
       "    <tr style=\"text-align: right;\">\n",
       "      <th></th>\n",
       "      <th>Customer ID</th>\n",
       "      <th>Gender</th>\n",
       "      <th>Age</th>\n",
       "      <th>City</th>\n",
       "      <th>Membership Type</th>\n",
       "      <th>Total Spend</th>\n",
       "      <th>Items Purchased</th>\n",
       "      <th>Average Rating</th>\n",
       "      <th>Discount Applied</th>\n",
       "      <th>Days Since Last Purchase</th>\n",
       "      <th>Satisfaction Level</th>\n",
       "    </tr>\n",
       "  </thead>\n",
       "  <tbody>\n",
       "    <tr>\n",
       "      <th>345</th>\n",
       "      <td>446</td>\n",
       "      <td>Male</td>\n",
       "      <td>32</td>\n",
       "      <td>Miami</td>\n",
       "      <td>Silver</td>\n",
       "      <td>660.30</td>\n",
       "      <td>10</td>\n",
       "      <td>3.8</td>\n",
       "      <td>True</td>\n",
       "      <td>42</td>\n",
       "      <td>Unsatisfied</td>\n",
       "    </tr>\n",
       "    <tr>\n",
       "      <th>346</th>\n",
       "      <td>447</td>\n",
       "      <td>Female</td>\n",
       "      <td>36</td>\n",
       "      <td>Houston</td>\n",
       "      <td>Bronze</td>\n",
       "      <td>470.50</td>\n",
       "      <td>8</td>\n",
       "      <td>3.0</td>\n",
       "      <td>False</td>\n",
       "      <td>27</td>\n",
       "      <td>Neutral</td>\n",
       "    </tr>\n",
       "    <tr>\n",
       "      <th>347</th>\n",
       "      <td>448</td>\n",
       "      <td>Female</td>\n",
       "      <td>30</td>\n",
       "      <td>New York</td>\n",
       "      <td>Gold</td>\n",
       "      <td>1190.80</td>\n",
       "      <td>16</td>\n",
       "      <td>4.5</td>\n",
       "      <td>True</td>\n",
       "      <td>28</td>\n",
       "      <td>Satisfied</td>\n",
       "    </tr>\n",
       "    <tr>\n",
       "      <th>348</th>\n",
       "      <td>449</td>\n",
       "      <td>Male</td>\n",
       "      <td>34</td>\n",
       "      <td>Los Angeles</td>\n",
       "      <td>Silver</td>\n",
       "      <td>780.20</td>\n",
       "      <td>11</td>\n",
       "      <td>4.2</td>\n",
       "      <td>False</td>\n",
       "      <td>21</td>\n",
       "      <td>Neutral</td>\n",
       "    </tr>\n",
       "    <tr>\n",
       "      <th>349</th>\n",
       "      <td>450</td>\n",
       "      <td>Female</td>\n",
       "      <td>43</td>\n",
       "      <td>Chicago</td>\n",
       "      <td>Bronze</td>\n",
       "      <td>515.75</td>\n",
       "      <td>10</td>\n",
       "      <td>3.3</td>\n",
       "      <td>True</td>\n",
       "      <td>49</td>\n",
       "      <td>Unsatisfied</td>\n",
       "    </tr>\n",
       "  </tbody>\n",
       "</table>\n",
       "</div>"
      ],
      "text/plain": [
       "     Customer ID  Gender  Age         City Membership Type  Total Spend  \\\n",
       "345          446    Male   32        Miami          Silver       660.30   \n",
       "346          447  Female   36      Houston          Bronze       470.50   \n",
       "347          448  Female   30     New York            Gold      1190.80   \n",
       "348          449    Male   34  Los Angeles          Silver       780.20   \n",
       "349          450  Female   43      Chicago          Bronze       515.75   \n",
       "\n",
       "     Items Purchased  Average Rating  Discount Applied  \\\n",
       "345               10             3.8              True   \n",
       "346                8             3.0             False   \n",
       "347               16             4.5              True   \n",
       "348               11             4.2             False   \n",
       "349               10             3.3              True   \n",
       "\n",
       "     Days Since Last Purchase Satisfaction Level  \n",
       "345                        42        Unsatisfied  \n",
       "346                        27            Neutral  \n",
       "347                        28          Satisfied  \n",
       "348                        21            Neutral  \n",
       "349                        49        Unsatisfied  "
      ]
     },
     "execution_count": 5,
     "metadata": {},
     "output_type": "execute_result"
    }
   ],
   "source": [
    "df.tail()"
   ]
  },
  {
   "cell_type": "code",
   "execution_count": 6,
   "id": "dedca6fe",
   "metadata": {
    "execution": {
     "iopub.execute_input": "2024-06-03T21:01:13.156632Z",
     "iopub.status.busy": "2024-06-03T21:01:13.156248Z",
     "iopub.status.idle": "2024-06-03T21:01:13.183361Z",
     "shell.execute_reply": "2024-06-03T21:01:13.182162Z"
    },
    "papermill": {
     "duration": 0.048361,
     "end_time": "2024-06-03T21:01:13.186003",
     "exception": false,
     "start_time": "2024-06-03T21:01:13.137642",
     "status": "completed"
    },
    "tags": []
   },
   "outputs": [
    {
     "name": "stdout",
     "output_type": "stream",
     "text": [
      "<class 'pandas.core.frame.DataFrame'>\n",
      "RangeIndex: 350 entries, 0 to 349\n",
      "Data columns (total 11 columns):\n",
      " #   Column                    Non-Null Count  Dtype  \n",
      "---  ------                    --------------  -----  \n",
      " 0   Customer ID               350 non-null    int64  \n",
      " 1   Gender                    350 non-null    object \n",
      " 2   Age                       350 non-null    int64  \n",
      " 3   City                      350 non-null    object \n",
      " 4   Membership Type           350 non-null    object \n",
      " 5   Total Spend               350 non-null    float64\n",
      " 6   Items Purchased           350 non-null    int64  \n",
      " 7   Average Rating            350 non-null    float64\n",
      " 8   Discount Applied          350 non-null    bool   \n",
      " 9   Days Since Last Purchase  350 non-null    int64  \n",
      " 10  Satisfaction Level        348 non-null    object \n",
      "dtypes: bool(1), float64(2), int64(4), object(4)\n",
      "memory usage: 27.8+ KB\n"
     ]
    }
   ],
   "source": [
    "df.info()\n"
   ]
  },
  {
   "cell_type": "markdown",
   "id": "078797df",
   "metadata": {
    "papermill": {
     "duration": 0.016549,
     "end_time": "2024-06-03T21:01:13.218990",
     "exception": false,
     "start_time": "2024-06-03T21:01:13.202441",
     "status": "completed"
    },
    "tags": []
   },
   "source": [
    "#  Finding Null,Dublicate and Outliers"
   ]
  },
  {
   "cell_type": "code",
   "execution_count": 7,
   "id": "aa0e0a5c",
   "metadata": {
    "execution": {
     "iopub.execute_input": "2024-06-03T21:01:13.253328Z",
     "iopub.status.busy": "2024-06-03T21:01:13.252941Z",
     "iopub.status.idle": "2024-06-03T21:01:13.262303Z",
     "shell.execute_reply": "2024-06-03T21:01:13.261179Z"
    },
    "papermill": {
     "duration": 0.029451,
     "end_time": "2024-06-03T21:01:13.264712",
     "exception": false,
     "start_time": "2024-06-03T21:01:13.235261",
     "status": "completed"
    },
    "tags": []
   },
   "outputs": [
    {
     "data": {
      "text/plain": [
       "Customer ID                 0\n",
       "Gender                      0\n",
       "Age                         0\n",
       "City                        0\n",
       "Membership Type             0\n",
       "Total Spend                 0\n",
       "Items Purchased             0\n",
       "Average Rating              0\n",
       "Discount Applied            0\n",
       "Days Since Last Purchase    0\n",
       "Satisfaction Level          2\n",
       "dtype: int64"
      ]
     },
     "execution_count": 7,
     "metadata": {},
     "output_type": "execute_result"
    }
   ],
   "source": [
    "df.isnull().sum()"
   ]
  },
  {
   "cell_type": "markdown",
   "id": "e48d3f7b",
   "metadata": {
    "papermill": {
     "duration": 0.016268,
     "end_time": "2024-06-03T21:01:13.297531",
     "exception": false,
     "start_time": "2024-06-03T21:01:13.281263",
     "status": "completed"
    },
    "tags": []
   },
   "source": [
    "**There is null value in satisfaction level.**"
   ]
  },
  {
   "cell_type": "markdown",
   "id": "d6016fa4",
   "metadata": {
    "papermill": {
     "duration": 0.016033,
     "end_time": "2024-06-03T21:01:13.330560",
     "exception": false,
     "start_time": "2024-06-03T21:01:13.314527",
     "status": "completed"
    },
    "tags": []
   },
   "source": [
    "Lets check if there is dublicate value"
   ]
  },
  {
   "cell_type": "code",
   "execution_count": 8,
   "id": "b081d4a7",
   "metadata": {
    "execution": {
     "iopub.execute_input": "2024-06-03T21:01:13.365230Z",
     "iopub.status.busy": "2024-06-03T21:01:13.364816Z",
     "iopub.status.idle": "2024-06-03T21:01:13.375279Z",
     "shell.execute_reply": "2024-06-03T21:01:13.374187Z"
    },
    "papermill": {
     "duration": 0.030575,
     "end_time": "2024-06-03T21:01:13.377574",
     "exception": false,
     "start_time": "2024-06-03T21:01:13.346999",
     "status": "completed"
    },
    "tags": []
   },
   "outputs": [
    {
     "data": {
      "text/plain": [
       "0"
      ]
     },
     "execution_count": 8,
     "metadata": {},
     "output_type": "execute_result"
    }
   ],
   "source": [
    "df.duplicated().sum()"
   ]
  },
  {
   "cell_type": "markdown",
   "id": "00e0d4b1",
   "metadata": {
    "papermill": {
     "duration": 0.016349,
     "end_time": "2024-06-03T21:01:13.410700",
     "exception": false,
     "start_time": "2024-06-03T21:01:13.394351",
     "status": "completed"
    },
    "tags": []
   },
   "source": [
    "We need to describe data to understand outliers"
   ]
  },
  {
   "cell_type": "code",
   "execution_count": 9,
   "id": "489002a5",
   "metadata": {
    "execution": {
     "iopub.execute_input": "2024-06-03T21:01:13.445817Z",
     "iopub.status.busy": "2024-06-03T21:01:13.445467Z",
     "iopub.status.idle": "2024-06-03T21:01:13.475517Z",
     "shell.execute_reply": "2024-06-03T21:01:13.474277Z"
    },
    "papermill": {
     "duration": 0.051604,
     "end_time": "2024-06-03T21:01:13.478788",
     "exception": false,
     "start_time": "2024-06-03T21:01:13.427184",
     "status": "completed"
    },
    "tags": []
   },
   "outputs": [
    {
     "data": {
      "text/html": [
       "<div>\n",
       "<style scoped>\n",
       "    .dataframe tbody tr th:only-of-type {\n",
       "        vertical-align: middle;\n",
       "    }\n",
       "\n",
       "    .dataframe tbody tr th {\n",
       "        vertical-align: top;\n",
       "    }\n",
       "\n",
       "    .dataframe thead th {\n",
       "        text-align: right;\n",
       "    }\n",
       "</style>\n",
       "<table border=\"1\" class=\"dataframe\">\n",
       "  <thead>\n",
       "    <tr style=\"text-align: right;\">\n",
       "      <th></th>\n",
       "      <th>Customer ID</th>\n",
       "      <th>Age</th>\n",
       "      <th>Total Spend</th>\n",
       "      <th>Items Purchased</th>\n",
       "      <th>Average Rating</th>\n",
       "      <th>Days Since Last Purchase</th>\n",
       "    </tr>\n",
       "  </thead>\n",
       "  <tbody>\n",
       "    <tr>\n",
       "      <th>count</th>\n",
       "      <td>350.000000</td>\n",
       "      <td>350.000000</td>\n",
       "      <td>350.000000</td>\n",
       "      <td>350.000000</td>\n",
       "      <td>350.000000</td>\n",
       "      <td>350.000000</td>\n",
       "    </tr>\n",
       "    <tr>\n",
       "      <th>mean</th>\n",
       "      <td>275.500000</td>\n",
       "      <td>33.597143</td>\n",
       "      <td>845.381714</td>\n",
       "      <td>12.600000</td>\n",
       "      <td>4.019143</td>\n",
       "      <td>26.588571</td>\n",
       "    </tr>\n",
       "    <tr>\n",
       "      <th>std</th>\n",
       "      <td>101.180532</td>\n",
       "      <td>4.870882</td>\n",
       "      <td>362.058695</td>\n",
       "      <td>4.155984</td>\n",
       "      <td>0.580539</td>\n",
       "      <td>13.440813</td>\n",
       "    </tr>\n",
       "    <tr>\n",
       "      <th>min</th>\n",
       "      <td>101.000000</td>\n",
       "      <td>26.000000</td>\n",
       "      <td>410.800000</td>\n",
       "      <td>7.000000</td>\n",
       "      <td>3.000000</td>\n",
       "      <td>9.000000</td>\n",
       "    </tr>\n",
       "    <tr>\n",
       "      <th>25%</th>\n",
       "      <td>188.250000</td>\n",
       "      <td>30.000000</td>\n",
       "      <td>502.000000</td>\n",
       "      <td>9.000000</td>\n",
       "      <td>3.500000</td>\n",
       "      <td>15.000000</td>\n",
       "    </tr>\n",
       "    <tr>\n",
       "      <th>50%</th>\n",
       "      <td>275.500000</td>\n",
       "      <td>32.500000</td>\n",
       "      <td>775.200000</td>\n",
       "      <td>12.000000</td>\n",
       "      <td>4.100000</td>\n",
       "      <td>23.000000</td>\n",
       "    </tr>\n",
       "    <tr>\n",
       "      <th>75%</th>\n",
       "      <td>362.750000</td>\n",
       "      <td>37.000000</td>\n",
       "      <td>1160.600000</td>\n",
       "      <td>15.000000</td>\n",
       "      <td>4.500000</td>\n",
       "      <td>38.000000</td>\n",
       "    </tr>\n",
       "    <tr>\n",
       "      <th>max</th>\n",
       "      <td>450.000000</td>\n",
       "      <td>43.000000</td>\n",
       "      <td>1520.100000</td>\n",
       "      <td>21.000000</td>\n",
       "      <td>4.900000</td>\n",
       "      <td>63.000000</td>\n",
       "    </tr>\n",
       "  </tbody>\n",
       "</table>\n",
       "</div>"
      ],
      "text/plain": [
       "       Customer ID         Age  Total Spend  Items Purchased  Average Rating  \\\n",
       "count   350.000000  350.000000   350.000000       350.000000      350.000000   \n",
       "mean    275.500000   33.597143   845.381714        12.600000        4.019143   \n",
       "std     101.180532    4.870882   362.058695         4.155984        0.580539   \n",
       "min     101.000000   26.000000   410.800000         7.000000        3.000000   \n",
       "25%     188.250000   30.000000   502.000000         9.000000        3.500000   \n",
       "50%     275.500000   32.500000   775.200000        12.000000        4.100000   \n",
       "75%     362.750000   37.000000  1160.600000        15.000000        4.500000   \n",
       "max     450.000000   43.000000  1520.100000        21.000000        4.900000   \n",
       "\n",
       "       Days Since Last Purchase  \n",
       "count                350.000000  \n",
       "mean                  26.588571  \n",
       "std                   13.440813  \n",
       "min                    9.000000  \n",
       "25%                   15.000000  \n",
       "50%                   23.000000  \n",
       "75%                   38.000000  \n",
       "max                   63.000000  "
      ]
     },
     "execution_count": 9,
     "metadata": {},
     "output_type": "execute_result"
    }
   ],
   "source": [
    "df.describe()"
   ]
  },
  {
   "cell_type": "markdown",
   "id": "77be464c",
   "metadata": {
    "papermill": {
     "duration": 0.017875,
     "end_time": "2024-06-03T21:01:13.513578",
     "exception": false,
     "start_time": "2024-06-03T21:01:13.495703",
     "status": "completed"
    },
    "tags": []
   },
   "source": [
    "# Cleaning data"
   ]
  },
  {
   "cell_type": "code",
   "execution_count": 10,
   "id": "48138b83",
   "metadata": {
    "execution": {
     "iopub.execute_input": "2024-06-03T21:01:13.550033Z",
     "iopub.status.busy": "2024-06-03T21:01:13.549614Z",
     "iopub.status.idle": "2024-06-03T21:01:13.558179Z",
     "shell.execute_reply": "2024-06-03T21:01:13.557275Z"
    },
    "papermill": {
     "duration": 0.029972,
     "end_time": "2024-06-03T21:01:13.560444",
     "exception": false,
     "start_time": "2024-06-03T21:01:13.530472",
     "status": "completed"
    },
    "tags": []
   },
   "outputs": [],
   "source": [
    "df.dropna(inplace=True)"
   ]
  },
  {
   "cell_type": "markdown",
   "id": "315f1fd7",
   "metadata": {
    "papermill": {
     "duration": 0.016699,
     "end_time": "2024-06-03T21:01:13.594145",
     "exception": false,
     "start_time": "2024-06-03T21:01:13.577446",
     "status": "completed"
    },
    "tags": []
   },
   "source": [
    "we drop the null value in satisfaction level"
   ]
  },
  {
   "cell_type": "code",
   "execution_count": 11,
   "id": "afc06988",
   "metadata": {
    "execution": {
     "iopub.execute_input": "2024-06-03T21:01:13.630499Z",
     "iopub.status.busy": "2024-06-03T21:01:13.630141Z",
     "iopub.status.idle": "2024-06-03T21:01:13.642287Z",
     "shell.execute_reply": "2024-06-03T21:01:13.641103Z"
    },
    "papermill": {
     "duration": 0.032961,
     "end_time": "2024-06-03T21:01:13.644937",
     "exception": false,
     "start_time": "2024-06-03T21:01:13.611976",
     "status": "completed"
    },
    "tags": []
   },
   "outputs": [
    {
     "name": "stdout",
     "output_type": "stream",
     "text": [
      "<class 'pandas.core.frame.DataFrame'>\n",
      "Index: 348 entries, 0 to 349\n",
      "Data columns (total 11 columns):\n",
      " #   Column                    Non-Null Count  Dtype  \n",
      "---  ------                    --------------  -----  \n",
      " 0   Customer ID               348 non-null    int64  \n",
      " 1   Gender                    348 non-null    object \n",
      " 2   Age                       348 non-null    int64  \n",
      " 3   City                      348 non-null    object \n",
      " 4   Membership Type           348 non-null    object \n",
      " 5   Total Spend               348 non-null    float64\n",
      " 6   Items Purchased           348 non-null    int64  \n",
      " 7   Average Rating            348 non-null    float64\n",
      " 8   Discount Applied          348 non-null    bool   \n",
      " 9   Days Since Last Purchase  348 non-null    int64  \n",
      " 10  Satisfaction Level        348 non-null    object \n",
      "dtypes: bool(1), float64(2), int64(4), object(4)\n",
      "memory usage: 30.2+ KB\n"
     ]
    }
   ],
   "source": [
    "df.info()"
   ]
  },
  {
   "cell_type": "markdown",
   "id": "7cad253f",
   "metadata": {
    "papermill": {
     "duration": 0.018195,
     "end_time": "2024-06-03T21:01:13.680341",
     "exception": false,
     "start_time": "2024-06-03T21:01:13.662146",
     "status": "completed"
    },
    "tags": []
   },
   "source": [
    "# Analysis of Data"
   ]
  },
  {
   "cell_type": "code",
   "execution_count": 12,
   "id": "4d34849e",
   "metadata": {
    "execution": {
     "iopub.execute_input": "2024-06-03T21:01:13.716050Z",
     "iopub.status.busy": "2024-06-03T21:01:13.715652Z",
     "iopub.status.idle": "2024-06-03T21:01:13.732874Z",
     "shell.execute_reply": "2024-06-03T21:01:13.731789Z"
    },
    "papermill": {
     "duration": 0.038077,
     "end_time": "2024-06-03T21:01:13.735338",
     "exception": false,
     "start_time": "2024-06-03T21:01:13.697261",
     "status": "completed"
    },
    "tags": []
   },
   "outputs": [
    {
     "data": {
      "text/html": [
       "<div>\n",
       "<style scoped>\n",
       "    .dataframe tbody tr th:only-of-type {\n",
       "        vertical-align: middle;\n",
       "    }\n",
       "\n",
       "    .dataframe tbody tr th {\n",
       "        vertical-align: top;\n",
       "    }\n",
       "\n",
       "    .dataframe thead th {\n",
       "        text-align: right;\n",
       "    }\n",
       "</style>\n",
       "<table border=\"1\" class=\"dataframe\">\n",
       "  <thead>\n",
       "    <tr style=\"text-align: right;\">\n",
       "      <th></th>\n",
       "      <th>Customer ID</th>\n",
       "      <th>Gender</th>\n",
       "      <th>Age</th>\n",
       "      <th>City</th>\n",
       "      <th>Membership Type</th>\n",
       "      <th>Total Spend</th>\n",
       "      <th>Items Purchased</th>\n",
       "      <th>Average Rating</th>\n",
       "      <th>Discount Applied</th>\n",
       "      <th>Days Since Last Purchase</th>\n",
       "      <th>Satisfaction Level</th>\n",
       "    </tr>\n",
       "  </thead>\n",
       "  <tbody>\n",
       "    <tr>\n",
       "      <th>0</th>\n",
       "      <td>101</td>\n",
       "      <td>Female</td>\n",
       "      <td>29</td>\n",
       "      <td>New York</td>\n",
       "      <td>Gold</td>\n",
       "      <td>1120.20</td>\n",
       "      <td>14</td>\n",
       "      <td>4.6</td>\n",
       "      <td>True</td>\n",
       "      <td>25</td>\n",
       "      <td>Satisfied</td>\n",
       "    </tr>\n",
       "    <tr>\n",
       "      <th>1</th>\n",
       "      <td>102</td>\n",
       "      <td>Male</td>\n",
       "      <td>34</td>\n",
       "      <td>Los Angeles</td>\n",
       "      <td>Silver</td>\n",
       "      <td>780.50</td>\n",
       "      <td>11</td>\n",
       "      <td>4.1</td>\n",
       "      <td>False</td>\n",
       "      <td>18</td>\n",
       "      <td>Neutral</td>\n",
       "    </tr>\n",
       "    <tr>\n",
       "      <th>2</th>\n",
       "      <td>103</td>\n",
       "      <td>Female</td>\n",
       "      <td>43</td>\n",
       "      <td>Chicago</td>\n",
       "      <td>Bronze</td>\n",
       "      <td>510.75</td>\n",
       "      <td>9</td>\n",
       "      <td>3.4</td>\n",
       "      <td>True</td>\n",
       "      <td>42</td>\n",
       "      <td>Unsatisfied</td>\n",
       "    </tr>\n",
       "    <tr>\n",
       "      <th>3</th>\n",
       "      <td>104</td>\n",
       "      <td>Male</td>\n",
       "      <td>30</td>\n",
       "      <td>San Francisco</td>\n",
       "      <td>Gold</td>\n",
       "      <td>1480.30</td>\n",
       "      <td>19</td>\n",
       "      <td>4.7</td>\n",
       "      <td>False</td>\n",
       "      <td>12</td>\n",
       "      <td>Satisfied</td>\n",
       "    </tr>\n",
       "    <tr>\n",
       "      <th>4</th>\n",
       "      <td>105</td>\n",
       "      <td>Male</td>\n",
       "      <td>27</td>\n",
       "      <td>Miami</td>\n",
       "      <td>Silver</td>\n",
       "      <td>720.40</td>\n",
       "      <td>13</td>\n",
       "      <td>4.0</td>\n",
       "      <td>True</td>\n",
       "      <td>55</td>\n",
       "      <td>Unsatisfied</td>\n",
       "    </tr>\n",
       "  </tbody>\n",
       "</table>\n",
       "</div>"
      ],
      "text/plain": [
       "   Customer ID  Gender  Age           City Membership Type  Total Spend  \\\n",
       "0          101  Female   29       New York            Gold      1120.20   \n",
       "1          102    Male   34    Los Angeles          Silver       780.50   \n",
       "2          103  Female   43        Chicago          Bronze       510.75   \n",
       "3          104    Male   30  San Francisco            Gold      1480.30   \n",
       "4          105    Male   27          Miami          Silver       720.40   \n",
       "\n",
       "   Items Purchased  Average Rating  Discount Applied  \\\n",
       "0               14             4.6              True   \n",
       "1               11             4.1             False   \n",
       "2                9             3.4              True   \n",
       "3               19             4.7             False   \n",
       "4               13             4.0              True   \n",
       "\n",
       "   Days Since Last Purchase Satisfaction Level  \n",
       "0                        25          Satisfied  \n",
       "1                        18            Neutral  \n",
       "2                        42        Unsatisfied  \n",
       "3                        12          Satisfied  \n",
       "4                        55        Unsatisfied  "
      ]
     },
     "execution_count": 12,
     "metadata": {},
     "output_type": "execute_result"
    }
   ],
   "source": [
    "df.head()"
   ]
  },
  {
   "cell_type": "code",
   "execution_count": 13,
   "id": "c6fc3039",
   "metadata": {
    "execution": {
     "iopub.execute_input": "2024-06-03T21:01:13.772168Z",
     "iopub.status.busy": "2024-06-03T21:01:13.771777Z",
     "iopub.status.idle": "2024-06-03T21:01:13.783286Z",
     "shell.execute_reply": "2024-06-03T21:01:13.782256Z"
    },
    "papermill": {
     "duration": 0.032846,
     "end_time": "2024-06-03T21:01:13.785625",
     "exception": false,
     "start_time": "2024-06-03T21:01:13.752779",
     "status": "completed"
    },
    "tags": []
   },
   "outputs": [
    {
     "data": {
      "text/html": [
       "<div>\n",
       "<style scoped>\n",
       "    .dataframe tbody tr th:only-of-type {\n",
       "        vertical-align: middle;\n",
       "    }\n",
       "\n",
       "    .dataframe tbody tr th {\n",
       "        vertical-align: top;\n",
       "    }\n",
       "\n",
       "    .dataframe thead th {\n",
       "        text-align: right;\n",
       "    }\n",
       "</style>\n",
       "<table border=\"1\" class=\"dataframe\">\n",
       "  <thead>\n",
       "    <tr style=\"text-align: right;\">\n",
       "      <th></th>\n",
       "      <th>Gender</th>\n",
       "      <th>count</th>\n",
       "    </tr>\n",
       "  </thead>\n",
       "  <tbody>\n",
       "    <tr>\n",
       "      <th>0</th>\n",
       "      <td>Male</td>\n",
       "      <td>175</td>\n",
       "    </tr>\n",
       "    <tr>\n",
       "      <th>1</th>\n",
       "      <td>Female</td>\n",
       "      <td>173</td>\n",
       "    </tr>\n",
       "  </tbody>\n",
       "</table>\n",
       "</div>"
      ],
      "text/plain": [
       "   Gender  count\n",
       "0    Male    175\n",
       "1  Female    173"
      ]
     },
     "execution_count": 13,
     "metadata": {},
     "output_type": "execute_result"
    }
   ],
   "source": [
    "Gender = df['Gender'].value_counts().reset_index()\n",
    "Gender"
   ]
  },
  {
   "cell_type": "markdown",
   "id": "527fb898",
   "metadata": {
    "papermill": {
     "duration": 0.017654,
     "end_time": "2024-06-03T21:01:13.821001",
     "exception": false,
     "start_time": "2024-06-03T21:01:13.803347",
     "status": "completed"
    },
    "tags": []
   },
   "source": [
    "# Male vs Female Percentage"
   ]
  },
  {
   "cell_type": "code",
   "execution_count": 14,
   "id": "3c565cdf",
   "metadata": {
    "execution": {
     "iopub.execute_input": "2024-06-03T21:01:13.917250Z",
     "iopub.status.busy": "2024-06-03T21:01:13.916824Z",
     "iopub.status.idle": "2024-06-03T21:01:14.090020Z",
     "shell.execute_reply": "2024-06-03T21:01:14.088706Z"
    },
    "jupyter": {
     "source_hidden": true
    },
    "papermill": {
     "duration": 0.195767,
     "end_time": "2024-06-03T21:01:14.093689",
     "exception": false,
     "start_time": "2024-06-03T21:01:13.897922",
     "status": "completed"
    },
    "tags": []
   },
   "outputs": [
    {
     "data": {
      "image/png": "[encoded data removed]",
      "text/plain": [
       "<Figure size 600x600 with 1 Axes>"
      ]
     },
     "metadata": {},
     "output_type": "display_data"
    }
   ],
   "source": [
    "plt.figure(figsize=(6,6))\n",
    "plt.pie(Gender['count'], colors=['grey', 'pink'],\n",
    "        shadow=False,labels=Gender['Gender'],\n",
    "        autopct='%2.5f%%'\n",
    "       )\n",
    "plt.legend()\n",
    "plt.show()\n"
   ]
  },
  {
   "cell_type": "code",
   "execution_count": 15,
   "id": "06cfad91",
   "metadata": {
    "execution": {
     "iopub.execute_input": "2024-06-03T21:01:14.133318Z",
     "iopub.status.busy": "2024-06-03T21:01:14.132146Z",
     "iopub.status.idle": "2024-06-03T21:01:14.154735Z",
     "shell.execute_reply": "2024-06-03T21:01:14.152758Z"
    },
    "papermill": {
     "duration": 0.046802,
     "end_time": "2024-06-03T21:01:14.158893",
     "exception": false,
     "start_time": "2024-06-03T21:01:14.112091",
     "status": "completed"
    },
    "tags": []
   },
   "outputs": [
    {
     "data": {
      "text/html": [
       "<div>\n",
       "<style scoped>\n",
       "    .dataframe tbody tr th:only-of-type {\n",
       "        vertical-align: middle;\n",
       "    }\n",
       "\n",
       "    .dataframe tbody tr th {\n",
       "        vertical-align: top;\n",
       "    }\n",
       "\n",
       "    .dataframe thead th {\n",
       "        text-align: right;\n",
       "    }\n",
       "</style>\n",
       "<table border=\"1\" class=\"dataframe\">\n",
       "  <thead>\n",
       "    <tr style=\"text-align: right;\">\n",
       "      <th></th>\n",
       "      <th>Gender</th>\n",
       "      <th>Age</th>\n",
       "      <th>count</th>\n",
       "    </tr>\n",
       "  </thead>\n",
       "  <tbody>\n",
       "    <tr>\n",
       "      <th>0</th>\n",
       "      <td>Female</td>\n",
       "      <td>43</td>\n",
       "      <td>25</td>\n",
       "    </tr>\n",
       "    <tr>\n",
       "      <th>1</th>\n",
       "      <td>Female</td>\n",
       "      <td>30</td>\n",
       "      <td>24</td>\n",
       "    </tr>\n",
       "    <tr>\n",
       "      <th>2</th>\n",
       "      <td>Female</td>\n",
       "      <td>31</td>\n",
       "      <td>24</td>\n",
       "    </tr>\n",
       "    <tr>\n",
       "      <th>3</th>\n",
       "      <td>Female</td>\n",
       "      <td>36</td>\n",
       "      <td>24</td>\n",
       "    </tr>\n",
       "    <tr>\n",
       "      <th>4</th>\n",
       "      <td>Female</td>\n",
       "      <td>41</td>\n",
       "      <td>24</td>\n",
       "    </tr>\n",
       "    <tr>\n",
       "      <th>5</th>\n",
       "      <td>Female</td>\n",
       "      <td>37</td>\n",
       "      <td>22</td>\n",
       "    </tr>\n",
       "    <tr>\n",
       "      <th>6</th>\n",
       "      <td>Female</td>\n",
       "      <td>32</td>\n",
       "      <td>9</td>\n",
       "    </tr>\n",
       "    <tr>\n",
       "      <th>7</th>\n",
       "      <td>Female</td>\n",
       "      <td>38</td>\n",
       "      <td>9</td>\n",
       "    </tr>\n",
       "    <tr>\n",
       "      <th>8</th>\n",
       "      <td>Female</td>\n",
       "      <td>42</td>\n",
       "      <td>9</td>\n",
       "    </tr>\n",
       "    <tr>\n",
       "      <th>9</th>\n",
       "      <td>Female</td>\n",
       "      <td>29</td>\n",
       "      <td>2</td>\n",
       "    </tr>\n",
       "    <tr>\n",
       "      <th>10</th>\n",
       "      <td>Female</td>\n",
       "      <td>35</td>\n",
       "      <td>1</td>\n",
       "    </tr>\n",
       "    <tr>\n",
       "      <th>11</th>\n",
       "      <td>Male</td>\n",
       "      <td>27</td>\n",
       "      <td>25</td>\n",
       "    </tr>\n",
       "    <tr>\n",
       "      <th>12</th>\n",
       "      <td>Male</td>\n",
       "      <td>28</td>\n",
       "      <td>24</td>\n",
       "    </tr>\n",
       "    <tr>\n",
       "      <th>13</th>\n",
       "      <td>Male</td>\n",
       "      <td>30</td>\n",
       "      <td>24</td>\n",
       "    </tr>\n",
       "    <tr>\n",
       "      <th>14</th>\n",
       "      <td>Male</td>\n",
       "      <td>32</td>\n",
       "      <td>24</td>\n",
       "    </tr>\n",
       "    <tr>\n",
       "      <th>15</th>\n",
       "      <td>Male</td>\n",
       "      <td>34</td>\n",
       "      <td>24</td>\n",
       "    </tr>\n",
       "    <tr>\n",
       "      <th>16</th>\n",
       "      <td>Male</td>\n",
       "      <td>35</td>\n",
       "      <td>24</td>\n",
       "    </tr>\n",
       "    <tr>\n",
       "      <th>17</th>\n",
       "      <td>Male</td>\n",
       "      <td>33</td>\n",
       "      <td>10</td>\n",
       "    </tr>\n",
       "    <tr>\n",
       "      <th>18</th>\n",
       "      <td>Male</td>\n",
       "      <td>26</td>\n",
       "      <td>9</td>\n",
       "    </tr>\n",
       "    <tr>\n",
       "      <th>19</th>\n",
       "      <td>Male</td>\n",
       "      <td>29</td>\n",
       "      <td>9</td>\n",
       "    </tr>\n",
       "    <tr>\n",
       "      <th>20</th>\n",
       "      <td>Male</td>\n",
       "      <td>31</td>\n",
       "      <td>1</td>\n",
       "    </tr>\n",
       "    <tr>\n",
       "      <th>21</th>\n",
       "      <td>Male</td>\n",
       "      <td>36</td>\n",
       "      <td>1</td>\n",
       "    </tr>\n",
       "  </tbody>\n",
       "</table>\n",
       "</div>"
      ],
      "text/plain": [
       "    Gender  Age  count\n",
       "0   Female   43     25\n",
       "1   Female   30     24\n",
       "2   Female   31     24\n",
       "3   Female   36     24\n",
       "4   Female   41     24\n",
       "5   Female   37     22\n",
       "6   Female   32      9\n",
       "7   Female   38      9\n",
       "8   Female   42      9\n",
       "9   Female   29      2\n",
       "10  Female   35      1\n",
       "11    Male   27     25\n",
       "12    Male   28     24\n",
       "13    Male   30     24\n",
       "14    Male   32     24\n",
       "15    Male   34     24\n",
       "16    Male   35     24\n",
       "17    Male   33     10\n",
       "18    Male   26      9\n",
       "19    Male   29      9\n",
       "20    Male   31      1\n",
       "21    Male   36      1"
      ]
     },
     "execution_count": 15,
     "metadata": {},
     "output_type": "execute_result"
    }
   ],
   "source": [
    "GenderwithAge = df.groupby('Gender')['Age'].value_counts().reset_index()\n",
    "GenderwithAge"
   ]
  },
  {
   "cell_type": "code",
   "execution_count": 16,
   "id": "eed7bdb3",
   "metadata": {
    "execution": {
     "iopub.execute_input": "2024-06-03T21:01:14.197974Z",
     "iopub.status.busy": "2024-06-03T21:01:14.197558Z",
     "iopub.status.idle": "2024-06-03T21:01:14.499085Z",
     "shell.execute_reply": "2024-06-03T21:01:14.497922Z"
    },
    "papermill": {
     "duration": 0.323943,
     "end_time": "2024-06-03T21:01:14.501551",
     "exception": false,
     "start_time": "2024-06-03T21:01:14.177608",
     "status": "completed"
    },
    "tags": []
   },
   "outputs": [
    {
     "data": {
      "image/png": "[encoded data removed]",
      "text/plain": [
       "<Figure size 800x800 with 1 Axes>"
      ]
     },
     "metadata": {},
     "output_type": "display_data"
    }
   ],
   "source": [
    "plt.figure(figsize=(8,8))\n",
    "plt.bar(GenderwithAge['Gender'], GenderwithAge['Age'],\n",
    "        color=['pink', 'skyblue'],\n",
    "       )\n",
    "plt.xlabel('Gender')\n",
    "plt.ylabel('Age')\n",
    "plt.title('Age by Gender')\n",
    "plt.show()"
   ]
  },
  {
   "cell_type": "markdown",
   "id": "b1c10402",
   "metadata": {
    "papermill": {
     "duration": 0.018739,
     "end_time": "2024-06-03T21:01:14.539783",
     "exception": false,
     "start_time": "2024-06-03T21:01:14.521044",
     "status": "completed"
    },
    "tags": []
   },
   "source": [
    "# Memebership Type with Gender"
   ]
  },
  {
   "cell_type": "code",
   "execution_count": 17,
   "id": "f85c507d",
   "metadata": {
    "execution": {
     "iopub.execute_input": "2024-06-03T21:01:14.579611Z",
     "iopub.status.busy": "2024-06-03T21:01:14.579228Z",
     "iopub.status.idle": "2024-06-03T21:01:14.596061Z",
     "shell.execute_reply": "2024-06-03T21:01:14.595061Z"
    },
    "papermill": {
     "duration": 0.03994,
     "end_time": "2024-06-03T21:01:14.598465",
     "exception": false,
     "start_time": "2024-06-03T21:01:14.558525",
     "status": "completed"
    },
    "tags": []
   },
   "outputs": [
    {
     "data": {
      "text/html": [
       "<div>\n",
       "<style scoped>\n",
       "    .dataframe tbody tr th:only-of-type {\n",
       "        vertical-align: middle;\n",
       "    }\n",
       "\n",
       "    .dataframe tbody tr th {\n",
       "        vertical-align: top;\n",
       "    }\n",
       "\n",
       "    .dataframe thead th {\n",
       "        text-align: right;\n",
       "    }\n",
       "</style>\n",
       "<table border=\"1\" class=\"dataframe\">\n",
       "  <thead>\n",
       "    <tr style=\"text-align: right;\">\n",
       "      <th></th>\n",
       "      <th>Gender</th>\n",
       "      <th>Membership Type</th>\n",
       "      <th>count</th>\n",
       "    </tr>\n",
       "  </thead>\n",
       "  <tbody>\n",
       "    <tr>\n",
       "      <th>0</th>\n",
       "      <td>Male</td>\n",
       "      <td>Silver</td>\n",
       "      <td>116</td>\n",
       "    </tr>\n",
       "    <tr>\n",
       "      <th>1</th>\n",
       "      <td>Female</td>\n",
       "      <td>Bronze</td>\n",
       "      <td>114</td>\n",
       "    </tr>\n",
       "    <tr>\n",
       "      <th>2</th>\n",
       "      <td>Male</td>\n",
       "      <td>Gold</td>\n",
       "      <td>59</td>\n",
       "    </tr>\n",
       "    <tr>\n",
       "      <th>3</th>\n",
       "      <td>Female</td>\n",
       "      <td>Gold</td>\n",
       "      <td>58</td>\n",
       "    </tr>\n",
       "    <tr>\n",
       "      <th>4</th>\n",
       "      <td>Female</td>\n",
       "      <td>Silver</td>\n",
       "      <td>1</td>\n",
       "    </tr>\n",
       "  </tbody>\n",
       "</table>\n",
       "</div>"
      ],
      "text/plain": [
       "   Gender Membership Type  count\n",
       "0    Male          Silver    116\n",
       "1  Female          Bronze    114\n",
       "2    Male            Gold     59\n",
       "3  Female            Gold     58\n",
       "4  Female          Silver      1"
      ]
     },
     "execution_count": 17,
     "metadata": {},
     "output_type": "execute_result"
    }
   ],
   "source": [
    "GenderWithMembershiptype = df[['Gender','Membership Type']].value_counts().reset_index()\n",
    "GenderWithMembershiptype"
   ]
  },
  {
   "cell_type": "code",
   "execution_count": 18,
   "id": "b4976c73",
   "metadata": {
    "execution": {
     "iopub.execute_input": "2024-06-03T21:01:14.639193Z",
     "iopub.status.busy": "2024-06-03T21:01:14.638788Z",
     "iopub.status.idle": "2024-06-03T21:01:14.877328Z",
     "shell.execute_reply": "2024-06-03T21:01:14.876218Z"
    },
    "papermill": {
     "duration": 0.261481,
     "end_time": "2024-06-03T21:01:14.879823",
     "exception": false,
     "start_time": "2024-06-03T21:01:14.618342",
     "status": "completed"
    },
    "tags": []
   },
   "outputs": [
    {
     "data": {
      "image/png": "[encoded data removed]",
      "text/plain": [
       "<Figure size 640x480 with 1 Axes>"
      ]
     },
     "metadata": {},
     "output_type": "display_data"
    }
   ],
   "source": [
    "sns.barplot(data=GenderWithMembershiptype, x='Gender', y='count', hue='Membership Type')\n",
    "plt.show()"
   ]
  },
  {
   "cell_type": "markdown",
   "id": "cdaa517f",
   "metadata": {
    "papermill": {
     "duration": 0.020134,
     "end_time": "2024-06-03T21:01:14.919518",
     "exception": false,
     "start_time": "2024-06-03T21:01:14.899384",
     "status": "completed"
    },
    "tags": []
   },
   "source": [
    "# Number for Customers For All Ages"
   ]
  },
  {
   "cell_type": "code",
   "execution_count": 19,
   "id": "a68bf8d5",
   "metadata": {
    "execution": {
     "iopub.execute_input": "2024-06-03T21:01:14.961120Z",
     "iopub.status.busy": "2024-06-03T21:01:14.960706Z",
     "iopub.status.idle": "2024-06-03T21:01:15.392423Z",
     "shell.execute_reply": "2024-06-03T21:01:15.391180Z"
    },
    "papermill": {
     "duration": 0.455026,
     "end_time": "2024-06-03T21:01:15.394991",
     "exception": false,
     "start_time": "2024-06-03T21:01:14.939965",
     "status": "completed"
    },
    "tags": []
   },
   "outputs": [
    {
     "data": {
      "image/png": "[encoded data removed]",
      "text/plain": [
       "<Figure size 800x800 with 1 Axes>"
      ]
     },
     "metadata": {},
     "output_type": "display_data"
    }
   ],
   "source": [
    "gender_age_data = df[['Gender', 'Age']].value_counts().reset_index().sort_values(ascending=False, by='count')\n",
    "\n",
    "plt.figure(figsize=(8, 8))\n",
    "sns.barplot(data=gender_age_data, x='Age', y='count', hue='Gender', palette=['pink', 'grey'])\n",
    "plt.title(\"Age Distribution\")\n",
    "plt.legend(loc=(1.05,0.9))\n",
    "plt.show()"
   ]
  },
  {
   "cell_type": "markdown",
   "id": "664842c4",
   "metadata": {
    "papermill": {
     "duration": 0.019628,
     "end_time": "2024-06-03T21:01:15.434605",
     "exception": false,
     "start_time": "2024-06-03T21:01:15.414977",
     "status": "completed"
    },
    "tags": []
   },
   "source": [
    "# Age Vs Count"
   ]
  },
  {
   "cell_type": "code",
   "execution_count": 20,
   "id": "a289b44d",
   "metadata": {
    "execution": {
     "iopub.execute_input": "2024-06-03T21:01:15.476112Z",
     "iopub.status.busy": "2024-06-03T21:01:15.475715Z",
     "iopub.status.idle": "2024-06-03T21:01:15.949334Z",
     "shell.execute_reply": "2024-06-03T21:01:15.945909Z"
    },
    "papermill": {
     "duration": 0.498872,
     "end_time": "2024-06-03T21:01:15.953284",
     "exception": false,
     "start_time": "2024-06-03T21:01:15.454412",
     "status": "completed"
    },
    "tags": []
   },
   "outputs": [
    {
     "data": {
      "image/png": "[encoded data removed]",
      "text/plain": [
       "<Figure size 800x800 with 1 Axes>"
      ]
     },
     "metadata": {},
     "output_type": "display_data"
    }
   ],
   "source": [
    "age_data = df['Age'].value_counts().reset_index()\n",
    "plt.figure(figsize=(8, 8))\n",
    "sns.barplot(data=age_data,x='Age', y='count')\n",
    "plt.xlabel('Age')\n",
    "plt.ylabel('Count')\n",
    "plt.xticks(rotation=45, ha='right')  # Rotate the labels for better readability\n",
    "plt.title('Age by Count')\n",
    "plt.tight_layout()  # Adjust layout to prevent clipping of labels\n",
    "plt.show()"
   ]
  },
  {
   "cell_type": "markdown",
   "id": "f7b7df00",
   "metadata": {
    "papermill": {
     "duration": 0.027597,
     "end_time": "2024-06-03T21:01:16.002939",
     "exception": false,
     "start_time": "2024-06-03T21:01:15.975342",
     "status": "completed"
    },
    "tags": []
   },
   "source": [
    "# City"
   ]
  },
  {
   "cell_type": "code",
   "execution_count": 21,
   "id": "ea540c73",
   "metadata": {
    "execution": {
     "iopub.execute_input": "2024-06-03T21:01:16.049735Z",
     "iopub.status.busy": "2024-06-03T21:01:16.049325Z",
     "iopub.status.idle": "2024-06-03T21:01:16.059479Z",
     "shell.execute_reply": "2024-06-03T21:01:16.058275Z"
    },
    "papermill": {
     "duration": 0.035833,
     "end_time": "2024-06-03T21:01:16.062044",
     "exception": false,
     "start_time": "2024-06-03T21:01:16.026211",
     "status": "completed"
    },
    "tags": []
   },
   "outputs": [
    {
     "data": {
      "text/plain": [
       "0           New York\n",
       "1        Los Angeles\n",
       "2            Chicago\n",
       "3      San Francisco\n",
       "4              Miami\n",
       "           ...      \n",
       "345            Miami\n",
       "346          Houston\n",
       "347         New York\n",
       "348      Los Angeles\n",
       "349          Chicago\n",
       "Name: City, Length: 348, dtype: object"
      ]
     },
     "execution_count": 21,
     "metadata": {},
     "output_type": "execute_result"
    }
   ],
   "source": [
    "city = df['City']\n",
    "city"
   ]
  },
  {
   "cell_type": "markdown",
   "id": "9f25b288",
   "metadata": {
    "papermill": {
     "duration": 0.020281,
     "end_time": "2024-06-03T21:01:16.103450",
     "exception": false,
     "start_time": "2024-06-03T21:01:16.083169",
     "status": "completed"
    },
    "tags": []
   },
   "source": [
    "# Gender with City"
   ]
  },
  {
   "cell_type": "code",
   "execution_count": 22,
   "id": "dee4fd0d",
   "metadata": {
    "execution": {
     "iopub.execute_input": "2024-06-03T21:01:16.146714Z",
     "iopub.status.busy": "2024-06-03T21:01:16.145765Z",
     "iopub.status.idle": "2024-06-03T21:01:16.165998Z",
     "shell.execute_reply": "2024-06-03T21:01:16.164642Z"
    },
    "papermill": {
     "duration": 0.044947,
     "end_time": "2024-06-03T21:01:16.168853",
     "exception": false,
     "start_time": "2024-06-03T21:01:16.123906",
     "status": "completed"
    },
    "tags": []
   },
   "outputs": [
    {
     "data": {
      "text/html": [
       "<div>\n",
       "<style scoped>\n",
       "    .dataframe tbody tr th:only-of-type {\n",
       "        vertical-align: middle;\n",
       "    }\n",
       "\n",
       "    .dataframe tbody tr th {\n",
       "        vertical-align: top;\n",
       "    }\n",
       "\n",
       "    .dataframe thead th {\n",
       "        text-align: right;\n",
       "    }\n",
       "</style>\n",
       "<table border=\"1\" class=\"dataframe\">\n",
       "  <thead>\n",
       "    <tr style=\"text-align: right;\">\n",
       "      <th></th>\n",
       "      <th>Gender</th>\n",
       "      <th>City</th>\n",
       "      <th>count</th>\n",
       "    </tr>\n",
       "  </thead>\n",
       "  <tbody>\n",
       "    <tr>\n",
       "      <th>0</th>\n",
       "      <td>Male</td>\n",
       "      <td>Los Angeles</td>\n",
       "      <td>59</td>\n",
       "    </tr>\n",
       "    <tr>\n",
       "      <th>1</th>\n",
       "      <td>Female</td>\n",
       "      <td>Chicago</td>\n",
       "      <td>58</td>\n",
       "    </tr>\n",
       "    <tr>\n",
       "      <th>2</th>\n",
       "      <td>Female</td>\n",
       "      <td>New York</td>\n",
       "      <td>58</td>\n",
       "    </tr>\n",
       "    <tr>\n",
       "      <th>3</th>\n",
       "      <td>Male</td>\n",
       "      <td>San Francisco</td>\n",
       "      <td>58</td>\n",
       "    </tr>\n",
       "    <tr>\n",
       "      <th>4</th>\n",
       "      <td>Male</td>\n",
       "      <td>Miami</td>\n",
       "      <td>57</td>\n",
       "    </tr>\n",
       "    <tr>\n",
       "      <th>5</th>\n",
       "      <td>Female</td>\n",
       "      <td>Houston</td>\n",
       "      <td>56</td>\n",
       "    </tr>\n",
       "    <tr>\n",
       "      <th>6</th>\n",
       "      <td>Female</td>\n",
       "      <td>Miami</td>\n",
       "      <td>1</td>\n",
       "    </tr>\n",
       "    <tr>\n",
       "      <th>7</th>\n",
       "      <td>Male</td>\n",
       "      <td>New York</td>\n",
       "      <td>1</td>\n",
       "    </tr>\n",
       "  </tbody>\n",
       "</table>\n",
       "</div>"
      ],
      "text/plain": [
       "   Gender           City  count\n",
       "0    Male    Los Angeles     59\n",
       "1  Female        Chicago     58\n",
       "2  Female       New York     58\n",
       "3    Male  San Francisco     58\n",
       "4    Male          Miami     57\n",
       "5  Female        Houston     56\n",
       "6  Female          Miami      1\n",
       "7    Male       New York      1"
      ]
     },
     "execution_count": 22,
     "metadata": {},
     "output_type": "execute_result"
    }
   ],
   "source": [
    "GenderwithCity = df[['Gender','City']].value_counts().reset_index()\n",
    "GenderwithCity"
   ]
  },
  {
   "cell_type": "markdown",
   "id": "3e8c5e02",
   "metadata": {
    "papermill": {
     "duration": 0.021249,
     "end_time": "2024-06-03T21:01:16.215457",
     "exception": false,
     "start_time": "2024-06-03T21:01:16.194208",
     "status": "completed"
    },
    "tags": []
   },
   "source": [
    "# City By Count"
   ]
  },
  {
   "cell_type": "code",
   "execution_count": 23,
   "id": "e561372b",
   "metadata": {
    "execution": {
     "iopub.execute_input": "2024-06-03T21:01:16.261098Z",
     "iopub.status.busy": "2024-06-03T21:01:16.260685Z",
     "iopub.status.idle": "2024-06-03T21:01:16.506815Z",
     "shell.execute_reply": "2024-06-03T21:01:16.505731Z"
    },
    "papermill": {
     "duration": 0.270904,
     "end_time": "2024-06-03T21:01:16.509380",
     "exception": false,
     "start_time": "2024-06-03T21:01:16.238476",
     "status": "completed"
    },
    "tags": []
   },
   "outputs": [
    {
     "data": {
      "image/png": "[encoded data removed]",
      "text/plain": [
       "<Figure size 800x800 with 1 Axes>"
      ]
     },
     "metadata": {},
     "output_type": "display_data"
    }
   ],
   "source": [
    "xticks = GenderwithCity['City']\n",
    "plt.figure(figsize=(8,8))\n",
    "plt.bar(GenderwithCity['City'], GenderwithCity['count'],\n",
    "        color='lightblue',\n",
    "       )\n",
    "plt.xlabel('City',color='Red')\n",
    "plt.ylabel('Count',color='Red')\n",
    "plt.xticks(xticks,color='green',rotation=0)\n",
    "plt.title('City by Count')\n",
    "plt.show()"
   ]
  },
  {
   "cell_type": "markdown",
   "id": "aff683da",
   "metadata": {
    "papermill": {
     "duration": 0.020977,
     "end_time": "2024-06-03T21:01:16.551740",
     "exception": false,
     "start_time": "2024-06-03T21:01:16.530763",
     "status": "completed"
    },
    "tags": []
   },
   "source": [
    "# Membership Type"
   ]
  },
  {
   "cell_type": "code",
   "execution_count": 24,
   "id": "5db909b5",
   "metadata": {
    "execution": {
     "iopub.execute_input": "2024-06-03T21:01:16.596153Z",
     "iopub.status.busy": "2024-06-03T21:01:16.595740Z",
     "iopub.status.idle": "2024-06-03T21:01:16.607419Z",
     "shell.execute_reply": "2024-06-03T21:01:16.606354Z"
    },
    "papermill": {
     "duration": 0.036906,
     "end_time": "2024-06-03T21:01:16.609909",
     "exception": false,
     "start_time": "2024-06-03T21:01:16.573003",
     "status": "completed"
    },
    "tags": []
   },
   "outputs": [
    {
     "data": {
      "text/html": [
       "<div>\n",
       "<style scoped>\n",
       "    .dataframe tbody tr th:only-of-type {\n",
       "        vertical-align: middle;\n",
       "    }\n",
       "\n",
       "    .dataframe tbody tr th {\n",
       "        vertical-align: top;\n",
       "    }\n",
       "\n",
       "    .dataframe thead th {\n",
       "        text-align: right;\n",
       "    }\n",
       "</style>\n",
       "<table border=\"1\" class=\"dataframe\">\n",
       "  <thead>\n",
       "    <tr style=\"text-align: right;\">\n",
       "      <th></th>\n",
       "      <th>Membership Type</th>\n",
       "      <th>count</th>\n",
       "    </tr>\n",
       "  </thead>\n",
       "  <tbody>\n",
       "    <tr>\n",
       "      <th>0</th>\n",
       "      <td>Gold</td>\n",
       "      <td>117</td>\n",
       "    </tr>\n",
       "    <tr>\n",
       "      <th>1</th>\n",
       "      <td>Silver</td>\n",
       "      <td>117</td>\n",
       "    </tr>\n",
       "    <tr>\n",
       "      <th>2</th>\n",
       "      <td>Bronze</td>\n",
       "      <td>114</td>\n",
       "    </tr>\n",
       "  </tbody>\n",
       "</table>\n",
       "</div>"
      ],
      "text/plain": [
       "  Membership Type  count\n",
       "0            Gold    117\n",
       "1          Silver    117\n",
       "2          Bronze    114"
      ]
     },
     "execution_count": 24,
     "metadata": {},
     "output_type": "execute_result"
    }
   ],
   "source": [
    "MembershipType = df['Membership Type'].value_counts().reset_index()\n",
    "MembershipType\n"
   ]
  },
  {
   "cell_type": "code",
   "execution_count": 25,
   "id": "bcb027a1",
   "metadata": {
    "execution": {
     "iopub.execute_input": "2024-06-03T21:01:16.655457Z",
     "iopub.status.busy": "2024-06-03T21:01:16.654697Z",
     "iopub.status.idle": "2024-06-03T21:01:16.827078Z",
     "shell.execute_reply": "2024-06-03T21:01:16.825947Z"
    },
    "papermill": {
     "duration": 0.197843,
     "end_time": "2024-06-03T21:01:16.829735",
     "exception": false,
     "start_time": "2024-06-03T21:01:16.631892",
     "status": "completed"
    },
    "tags": []
   },
   "outputs": [
    {
     "data": {
      "image/png": "[encoded data removed]",
      "text/plain": [
       "<Figure size 640x480 with 1 Axes>"
      ]
     },
     "metadata": {},
     "output_type": "display_data"
    }
   ],
   "source": [
    "sns.barplot(data=MembershipType, x='Membership Type', y='count' ,palette=['darkgrey'])\n",
    "plt.legend(loc=(1.1,0.8))\n",
    "plt.show()"
   ]
  },
  {
   "cell_type": "markdown",
   "id": "bee3d08e",
   "metadata": {
    "papermill": {
     "duration": 0.021501,
     "end_time": "2024-06-03T21:01:16.873849",
     "exception": false,
     "start_time": "2024-06-03T21:01:16.852348",
     "status": "completed"
    },
    "tags": []
   },
   "source": [
    "# Numbers of Customers by Memebership"
   ]
  },
  {
   "cell_type": "code",
   "execution_count": 26,
   "id": "cca4033c",
   "metadata": {
    "execution": {
     "iopub.execute_input": "2024-06-03T21:01:16.920245Z",
     "iopub.status.busy": "2024-06-03T21:01:16.919851Z",
     "iopub.status.idle": "2024-06-03T21:01:17.087202Z",
     "shell.execute_reply": "2024-06-03T21:01:17.085953Z"
    },
    "papermill": {
     "duration": 0.195175,
     "end_time": "2024-06-03T21:01:17.090903",
     "exception": false,
     "start_time": "2024-06-03T21:01:16.895728",
     "status": "completed"
    },
    "tags": []
   },
   "outputs": [
    {
     "data": {
      "image/png": "[encoded data removed]",
      "text/plain": [
       "<Figure size 800x800 with 1 Axes>"
      ]
     },
     "metadata": {},
     "output_type": "display_data"
    }
   ],
   "source": [
    "plt.figure(figsize=(8,8))\n",
    "plt.pie(MembershipType['count'], colors=['yellow', 'grey','darkred'],labels= MembershipType['Membership Type'],\n",
    "        autopct='%1.2f%%'\n",
    "       )\n",
    "plt.legend(loc=(0.8,1))\n",
    "plt.show()"
   ]
  },
  {
   "cell_type": "markdown",
   "id": "0439e56c",
   "metadata": {
    "papermill": {
     "duration": 0.022575,
     "end_time": "2024-06-03T21:01:17.136815",
     "exception": false,
     "start_time": "2024-06-03T21:01:17.114240",
     "status": "completed"
    },
    "tags": []
   },
   "source": [
    "# Total Spend By Membership"
   ]
  },
  {
   "cell_type": "code",
   "execution_count": 27,
   "id": "25135457",
   "metadata": {
    "execution": {
     "iopub.execute_input": "2024-06-03T21:01:17.184900Z",
     "iopub.status.busy": "2024-06-03T21:01:17.184091Z",
     "iopub.status.idle": "2024-06-03T21:01:17.203754Z",
     "shell.execute_reply": "2024-06-03T21:01:17.202650Z"
    },
    "papermill": {
     "duration": 0.047075,
     "end_time": "2024-06-03T21:01:17.206342",
     "exception": false,
     "start_time": "2024-06-03T21:01:17.159267",
     "status": "completed"
    },
    "tags": []
   },
   "outputs": [
    {
     "data": {
      "text/html": [
       "<div>\n",
       "<style scoped>\n",
       "    .dataframe tbody tr th:only-of-type {\n",
       "        vertical-align: middle;\n",
       "    }\n",
       "\n",
       "    .dataframe tbody tr th {\n",
       "        vertical-align: top;\n",
       "    }\n",
       "\n",
       "    .dataframe thead th {\n",
       "        text-align: right;\n",
       "    }\n",
       "</style>\n",
       "<table border=\"1\" class=\"dataframe\">\n",
       "  <thead>\n",
       "    <tr style=\"text-align: right;\">\n",
       "      <th></th>\n",
       "      <th>Membership Type</th>\n",
       "      <th>Total Spend</th>\n",
       "      <th>count</th>\n",
       "    </tr>\n",
       "  </thead>\n",
       "  <tbody>\n",
       "    <tr>\n",
       "      <th>55</th>\n",
       "      <td>Bronze</td>\n",
       "      <td>410.8</td>\n",
       "      <td>1</td>\n",
       "    </tr>\n",
       "    <tr>\n",
       "      <th>39</th>\n",
       "      <td>Bronze</td>\n",
       "      <td>420.8</td>\n",
       "      <td>4</td>\n",
       "    </tr>\n",
       "    <tr>\n",
       "      <th>59</th>\n",
       "      <td>Bronze</td>\n",
       "      <td>430.5</td>\n",
       "      <td>1</td>\n",
       "    </tr>\n",
       "    <tr>\n",
       "      <th>6</th>\n",
       "      <td>Bronze</td>\n",
       "      <td>430.8</td>\n",
       "      <td>11</td>\n",
       "    </tr>\n",
       "    <tr>\n",
       "      <th>41</th>\n",
       "      <td>Bronze</td>\n",
       "      <td>440.5</td>\n",
       "      <td>3</td>\n",
       "    </tr>\n",
       "    <tr>\n",
       "      <th>...</th>\n",
       "      <td>...</td>\n",
       "      <td>...</td>\n",
       "      <td>...</td>\n",
       "    </tr>\n",
       "    <tr>\n",
       "      <th>31</th>\n",
       "      <td>Gold</td>\n",
       "      <td>1480.1</td>\n",
       "      <td>5</td>\n",
       "    </tr>\n",
       "    <tr>\n",
       "      <th>73</th>\n",
       "      <td>Gold</td>\n",
       "      <td>1480.3</td>\n",
       "      <td>1</td>\n",
       "    </tr>\n",
       "    <tr>\n",
       "      <th>7</th>\n",
       "      <td>Gold</td>\n",
       "      <td>1490.1</td>\n",
       "      <td>11</td>\n",
       "    </tr>\n",
       "    <tr>\n",
       "      <th>24</th>\n",
       "      <td>Gold</td>\n",
       "      <td>1500.1</td>\n",
       "      <td>7</td>\n",
       "    </tr>\n",
       "    <tr>\n",
       "      <th>74</th>\n",
       "      <td>Gold</td>\n",
       "      <td>1520.1</td>\n",
       "      <td>1</td>\n",
       "    </tr>\n",
       "  </tbody>\n",
       "</table>\n",
       "<p>76 rows × 3 columns</p>\n",
       "</div>"
      ],
      "text/plain": [
       "   Membership Type  Total Spend  count\n",
       "55          Bronze        410.8      1\n",
       "39          Bronze        420.8      4\n",
       "59          Bronze        430.5      1\n",
       "6           Bronze        430.8     11\n",
       "41          Bronze        440.5      3\n",
       "..             ...          ...    ...\n",
       "31            Gold       1480.1      5\n",
       "73            Gold       1480.3      1\n",
       "7             Gold       1490.1     11\n",
       "24            Gold       1500.1      7\n",
       "74            Gold       1520.1      1\n",
       "\n",
       "[76 rows x 3 columns]"
      ]
     },
     "execution_count": 27,
     "metadata": {},
     "output_type": "execute_result"
    }
   ],
   "source": [
    "MembershipTypeandTotalSpend = df[['Membership Type','Total Spend']].value_counts().reset_index().sort_values(by='Total Spend',ascending=True)\n",
    "MembershipTypeandTotalSpend "
   ]
  },
  {
   "cell_type": "code",
   "execution_count": 28,
   "id": "31166ede",
   "metadata": {
    "execution": {
     "iopub.execute_input": "2024-06-03T21:01:17.260824Z",
     "iopub.status.busy": "2024-06-03T21:01:17.260396Z",
     "iopub.status.idle": "2024-06-03T21:01:17.631752Z",
     "shell.execute_reply": "2024-06-03T21:01:17.630577Z"
    },
    "papermill": {
     "duration": 0.403824,
     "end_time": "2024-06-03T21:01:17.634170",
     "exception": false,
     "start_time": "2024-06-03T21:01:17.230346",
     "status": "completed"
    },
    "tags": []
   },
   "outputs": [
    {
     "data": {
      "image/png": "[encoded data removed]",
      "text/plain": [
       "<Figure size 800x800 with 1 Axes>"
      ]
     },
     "metadata": {},
     "output_type": "display_data"
    }
   ],
   "source": [
    "plt.figure(figsize=(8,8))\n",
    "plt.bar(MembershipTypeandTotalSpend['Membership Type'], MembershipTypeandTotalSpend['Total Spend'], label='Total Spend',color='darkgrey')\n",
    "plt.legend(loc='upper left')  \n",
    "plt.xlabel('Membership Type')\n",
    "plt.ylabel('Total Spend')\n",
    "plt.title('Total Spend by Membership Type',color='Red')\n",
    "plt.show()"
   ]
  },
  {
   "cell_type": "code",
   "execution_count": 29,
   "id": "b77c60ba",
   "metadata": {
    "execution": {
     "iopub.execute_input": "2024-06-03T21:01:17.684266Z",
     "iopub.status.busy": "2024-06-03T21:01:17.683846Z",
     "iopub.status.idle": "2024-06-03T21:01:17.703356Z",
     "shell.execute_reply": "2024-06-03T21:01:17.702226Z"
    },
    "papermill": {
     "duration": 0.046744,
     "end_time": "2024-06-03T21:01:17.705740",
     "exception": false,
     "start_time": "2024-06-03T21:01:17.658996",
     "status": "completed"
    },
    "tags": []
   },
   "outputs": [
    {
     "data": {
      "text/html": [
       "<div>\n",
       "<style scoped>\n",
       "    .dataframe tbody tr th:only-of-type {\n",
       "        vertical-align: middle;\n",
       "    }\n",
       "\n",
       "    .dataframe tbody tr th {\n",
       "        vertical-align: top;\n",
       "    }\n",
       "\n",
       "    .dataframe thead th {\n",
       "        text-align: right;\n",
       "    }\n",
       "</style>\n",
       "<table border=\"1\" class=\"dataframe\">\n",
       "  <thead>\n",
       "    <tr style=\"text-align: right;\">\n",
       "      <th></th>\n",
       "      <th>Customer ID</th>\n",
       "      <th>Gender</th>\n",
       "      <th>Age</th>\n",
       "      <th>City</th>\n",
       "      <th>Membership Type</th>\n",
       "      <th>Total Spend</th>\n",
       "      <th>Items Purchased</th>\n",
       "      <th>Average Rating</th>\n",
       "      <th>Discount Applied</th>\n",
       "      <th>Days Since Last Purchase</th>\n",
       "      <th>Satisfaction Level</th>\n",
       "    </tr>\n",
       "  </thead>\n",
       "  <tbody>\n",
       "    <tr>\n",
       "      <th>0</th>\n",
       "      <td>101</td>\n",
       "      <td>Female</td>\n",
       "      <td>29</td>\n",
       "      <td>New York</td>\n",
       "      <td>Gold</td>\n",
       "      <td>1120.20</td>\n",
       "      <td>14</td>\n",
       "      <td>4.6</td>\n",
       "      <td>True</td>\n",
       "      <td>25</td>\n",
       "      <td>Satisfied</td>\n",
       "    </tr>\n",
       "    <tr>\n",
       "      <th>1</th>\n",
       "      <td>102</td>\n",
       "      <td>Male</td>\n",
       "      <td>34</td>\n",
       "      <td>Los Angeles</td>\n",
       "      <td>Silver</td>\n",
       "      <td>780.50</td>\n",
       "      <td>11</td>\n",
       "      <td>4.1</td>\n",
       "      <td>False</td>\n",
       "      <td>18</td>\n",
       "      <td>Neutral</td>\n",
       "    </tr>\n",
       "    <tr>\n",
       "      <th>2</th>\n",
       "      <td>103</td>\n",
       "      <td>Female</td>\n",
       "      <td>43</td>\n",
       "      <td>Chicago</td>\n",
       "      <td>Bronze</td>\n",
       "      <td>510.75</td>\n",
       "      <td>9</td>\n",
       "      <td>3.4</td>\n",
       "      <td>True</td>\n",
       "      <td>42</td>\n",
       "      <td>Unsatisfied</td>\n",
       "    </tr>\n",
       "    <tr>\n",
       "      <th>3</th>\n",
       "      <td>104</td>\n",
       "      <td>Male</td>\n",
       "      <td>30</td>\n",
       "      <td>San Francisco</td>\n",
       "      <td>Gold</td>\n",
       "      <td>1480.30</td>\n",
       "      <td>19</td>\n",
       "      <td>4.7</td>\n",
       "      <td>False</td>\n",
       "      <td>12</td>\n",
       "      <td>Satisfied</td>\n",
       "    </tr>\n",
       "    <tr>\n",
       "      <th>4</th>\n",
       "      <td>105</td>\n",
       "      <td>Male</td>\n",
       "      <td>27</td>\n",
       "      <td>Miami</td>\n",
       "      <td>Silver</td>\n",
       "      <td>720.40</td>\n",
       "      <td>13</td>\n",
       "      <td>4.0</td>\n",
       "      <td>True</td>\n",
       "      <td>55</td>\n",
       "      <td>Unsatisfied</td>\n",
       "    </tr>\n",
       "  </tbody>\n",
       "</table>\n",
       "</div>"
      ],
      "text/plain": [
       "   Customer ID  Gender  Age           City Membership Type  Total Spend  \\\n",
       "0          101  Female   29       New York            Gold      1120.20   \n",
       "1          102    Male   34    Los Angeles          Silver       780.50   \n",
       "2          103  Female   43        Chicago          Bronze       510.75   \n",
       "3          104    Male   30  San Francisco            Gold      1480.30   \n",
       "4          105    Male   27          Miami          Silver       720.40   \n",
       "\n",
       "   Items Purchased  Average Rating  Discount Applied  \\\n",
       "0               14             4.6              True   \n",
       "1               11             4.1             False   \n",
       "2                9             3.4              True   \n",
       "3               19             4.7             False   \n",
       "4               13             4.0              True   \n",
       "\n",
       "   Days Since Last Purchase Satisfaction Level  \n",
       "0                        25          Satisfied  \n",
       "1                        18            Neutral  \n",
       "2                        42        Unsatisfied  \n",
       "3                        12          Satisfied  \n",
       "4                        55        Unsatisfied  "
      ]
     },
     "execution_count": 29,
     "metadata": {},
     "output_type": "execute_result"
    }
   ],
   "source": [
    "df.head()"
   ]
  },
  {
   "cell_type": "markdown",
   "id": "121ed460",
   "metadata": {
    "papermill": {
     "duration": 0.023683,
     "end_time": "2024-06-03T21:01:17.753056",
     "exception": false,
     "start_time": "2024-06-03T21:01:17.729373",
     "status": "completed"
    },
    "tags": []
   },
   "source": [
    "# Distribution Days Since Last Purchase\n"
   ]
  },
  {
   "cell_type": "code",
   "execution_count": 30,
   "id": "d0c1fb64",
   "metadata": {
    "execution": {
     "iopub.execute_input": "2024-06-03T21:01:17.802633Z",
     "iopub.status.busy": "2024-06-03T21:01:17.802241Z",
     "iopub.status.idle": "2024-06-03T21:01:18.159973Z",
     "shell.execute_reply": "2024-06-03T21:01:18.158536Z"
    },
    "papermill": {
     "duration": 0.386274,
     "end_time": "2024-06-03T21:01:18.163191",
     "exception": false,
     "start_time": "2024-06-03T21:01:17.776917",
     "status": "completed"
    },
    "tags": []
   },
   "outputs": [
    {
     "name": "stderr",
     "output_type": "stream",
     "text": [
      "/opt/conda/lib/python3.10/site-packages/seaborn/_oldcore.py:1119: FutureWarning: use_inf_as_na option is deprecated and will be removed in a future version. Convert inf values to NaN before operating instead.\n",
      "  with pd.option_context('mode.use_inf_as_na', True):\n"
     ]
    },
    {
     "data": {
      "image/png": "[encoded data removed]",
      "text/plain": [
       "<Figure size 800x600 with 1 Axes>"
      ]
     },
     "metadata": {},
     "output_type": "display_data"
    }
   ],
   "source": [
    "plt.figure(figsize=(8, 6))\n",
    "sns.histplot(df['Days Since Last Purchase'],color='darkgrey')\n",
    "plt.title(\"Distribution of Days Since Last Purchase\",color='red')\n",
    "plt.show()"
   ]
  },
  {
   "cell_type": "markdown",
   "id": "6cc36a6d",
   "metadata": {
    "papermill": {
     "duration": 0.023994,
     "end_time": "2024-06-03T21:01:18.211396",
     "exception": false,
     "start_time": "2024-06-03T21:01:18.187402",
     "status": "completed"
    },
    "tags": []
   },
   "source": [
    "# Satisfaction Level"
   ]
  },
  {
   "cell_type": "code",
   "execution_count": 31,
   "id": "7928d4fd",
   "metadata": {
    "execution": {
     "iopub.execute_input": "2024-06-03T21:01:18.265476Z",
     "iopub.status.busy": "2024-06-03T21:01:18.263786Z",
     "iopub.status.idle": "2024-06-03T21:01:18.276334Z",
     "shell.execute_reply": "2024-06-03T21:01:18.275199Z"
    },
    "papermill": {
     "duration": 0.04138,
     "end_time": "2024-06-03T21:01:18.278782",
     "exception": false,
     "start_time": "2024-06-03T21:01:18.237402",
     "status": "completed"
    },
    "tags": []
   },
   "outputs": [
    {
     "data": {
      "text/html": [
       "<div>\n",
       "<style scoped>\n",
       "    .dataframe tbody tr th:only-of-type {\n",
       "        vertical-align: middle;\n",
       "    }\n",
       "\n",
       "    .dataframe tbody tr th {\n",
       "        vertical-align: top;\n",
       "    }\n",
       "\n",
       "    .dataframe thead th {\n",
       "        text-align: right;\n",
       "    }\n",
       "</style>\n",
       "<table border=\"1\" class=\"dataframe\">\n",
       "  <thead>\n",
       "    <tr style=\"text-align: right;\">\n",
       "      <th></th>\n",
       "      <th>Satisfaction Level</th>\n",
       "      <th>count</th>\n",
       "    </tr>\n",
       "  </thead>\n",
       "  <tbody>\n",
       "    <tr>\n",
       "      <th>0</th>\n",
       "      <td>Satisfied</td>\n",
       "      <td>125</td>\n",
       "    </tr>\n",
       "    <tr>\n",
       "      <th>1</th>\n",
       "      <td>Unsatisfied</td>\n",
       "      <td>116</td>\n",
       "    </tr>\n",
       "    <tr>\n",
       "      <th>2</th>\n",
       "      <td>Neutral</td>\n",
       "      <td>107</td>\n",
       "    </tr>\n",
       "  </tbody>\n",
       "</table>\n",
       "</div>"
      ],
      "text/plain": [
       "  Satisfaction Level  count\n",
       "0          Satisfied    125\n",
       "1        Unsatisfied    116\n",
       "2            Neutral    107"
      ]
     },
     "execution_count": 31,
     "metadata": {},
     "output_type": "execute_result"
    }
   ],
   "source": [
    "SatisfactionLevel = df['Satisfaction Level'].value_counts().reset_index()\n",
    "SatisfactionLevel"
   ]
  },
  {
   "cell_type": "code",
   "execution_count": 32,
   "id": "46506648",
   "metadata": {
    "execution": {
     "iopub.execute_input": "2024-06-03T21:01:18.331894Z",
     "iopub.status.busy": "2024-06-03T21:01:18.331476Z",
     "iopub.status.idle": "2024-06-03T21:01:18.620016Z",
     "shell.execute_reply": "2024-06-03T21:01:18.618893Z"
    },
    "papermill": {
     "duration": 0.318314,
     "end_time": "2024-06-03T21:01:18.622360",
     "exception": false,
     "start_time": "2024-06-03T21:01:18.304046",
     "status": "completed"
    },
    "tags": []
   },
   "outputs": [
    {
     "data": {
      "image/png": "[encoded data removed]",
      "text/plain": [
       "<Figure size 800x800 with 1 Axes>"
      ]
     },
     "metadata": {},
     "output_type": "display_data"
    }
   ],
   "source": [
    "xticks = SatisfactionLevel['Satisfaction Level']\n",
    "plt.figure(figsize=(8,8))\n",
    "plt.bar(SatisfactionLevel['Satisfaction Level'], SatisfactionLevel['count'], label='Satisfaction Level',color='darkgrey')\n",
    "plt.legend(loc='upper right')  # Adjust the location of the legend as needed\n",
    "plt.xlabel('Satisfaction Level',color='Red')\n",
    "plt.ylabel('Count',color='red')\n",
    "plt.xticks(xticks)\n",
    "plt.title('Satisfaction Level VS count',color='red')\n",
    "plt.show()"
   ]
  },
  {
   "cell_type": "markdown",
   "id": "913fd34c",
   "metadata": {
    "papermill": {
     "duration": 0.024968,
     "end_time": "2024-06-03T21:01:18.673248",
     "exception": false,
     "start_time": "2024-06-03T21:01:18.648280",
     "status": "completed"
    },
    "tags": []
   },
   "source": [
    "# Satistaction Level and average spend"
   ]
  },
  {
   "cell_type": "code",
   "execution_count": 33,
   "id": "b84156da",
   "metadata": {
    "execution": {
     "iopub.execute_input": "2024-06-03T21:01:18.727077Z",
     "iopub.status.busy": "2024-06-03T21:01:18.726666Z",
     "iopub.status.idle": "2024-06-03T21:01:18.741326Z",
     "shell.execute_reply": "2024-06-03T21:01:18.740141Z"
    },
    "papermill": {
     "duration": 0.043772,
     "end_time": "2024-06-03T21:01:18.743799",
     "exception": false,
     "start_time": "2024-06-03T21:01:18.700027",
     "status": "completed"
    },
    "tags": []
   },
   "outputs": [
    {
     "data": {
      "text/html": [
       "<div>\n",
       "<style scoped>\n",
       "    .dataframe tbody tr th:only-of-type {\n",
       "        vertical-align: middle;\n",
       "    }\n",
       "\n",
       "    .dataframe tbody tr th {\n",
       "        vertical-align: top;\n",
       "    }\n",
       "\n",
       "    .dataframe thead th {\n",
       "        text-align: right;\n",
       "    }\n",
       "</style>\n",
       "<table border=\"1\" class=\"dataframe\">\n",
       "  <thead>\n",
       "    <tr style=\"text-align: right;\">\n",
       "      <th></th>\n",
       "      <th>Satisfaction Level</th>\n",
       "      <th>Total Spend</th>\n",
       "    </tr>\n",
       "  </thead>\n",
       "  <tbody>\n",
       "    <tr>\n",
       "      <th>0</th>\n",
       "      <td>Neutral</td>\n",
       "      <td>616.414019</td>\n",
       "    </tr>\n",
       "    <tr>\n",
       "      <th>1</th>\n",
       "      <td>Satisfied</td>\n",
       "      <td>1280.319200</td>\n",
       "    </tr>\n",
       "    <tr>\n",
       "      <th>2</th>\n",
       "      <td>Unsatisfied</td>\n",
       "      <td>595.136207</td>\n",
       "    </tr>\n",
       "  </tbody>\n",
       "</table>\n",
       "</div>"
      ],
      "text/plain": [
       "  Satisfaction Level  Total Spend\n",
       "0            Neutral   616.414019\n",
       "1          Satisfied  1280.319200\n",
       "2        Unsatisfied   595.136207"
      ]
     },
     "execution_count": 33,
     "metadata": {},
     "output_type": "execute_result"
    }
   ],
   "source": [
    "SatistactionLevelandaveragespend = df.groupby('Satisfaction Level')['Total Spend'].mean().reset_index()\n",
    "SatistactionLevelandaveragespend"
   ]
  },
  {
   "cell_type": "code",
   "execution_count": 34,
   "id": "75f4d32d",
   "metadata": {
    "execution": {
     "iopub.execute_input": "2024-06-03T21:01:18.795494Z",
     "iopub.status.busy": "2024-06-03T21:01:18.795121Z",
     "iopub.status.idle": "2024-06-03T21:01:19.082007Z",
     "shell.execute_reply": "2024-06-03T21:01:19.080768Z"
    },
    "papermill": {
     "duration": 0.31558,
     "end_time": "2024-06-03T21:01:19.084368",
     "exception": false,
     "start_time": "2024-06-03T21:01:18.768788",
     "status": "completed"
    },
    "tags": []
   },
   "outputs": [
    {
     "data": {
      "image/png": "[encoded data removed]",
      "text/plain": [
       "<Figure size 800x800 with 1 Axes>"
      ]
     },
     "metadata": {},
     "output_type": "display_data"
    }
   ],
   "source": [
    "xticks = SatistactionLevelandaveragespend['Satisfaction Level']\n",
    "plt.figure(figsize=(8,8))\n",
    "plt.bar(SatistactionLevelandaveragespend['Satisfaction Level'], SatistactionLevelandaveragespend['Total Spend'], label='Satisfaction Level',color='darkgrey')\n",
    "plt.legend(loc='upper right')  # Adjust the location of the legend as needed\n",
    "plt.xlabel('Satisfaction Level',color='red')\n",
    "plt.ylabel('average spend',color='red')\n",
    "plt.xticks(xticks)\n",
    "plt.title('Satistaction Level and average spend',color='red')\n",
    "plt.show()"
   ]
  },
  {
   "cell_type": "markdown",
   "id": "be996509",
   "metadata": {
    "papermill": {
     "duration": 0.025485,
     "end_time": "2024-06-03T21:01:19.136312",
     "exception": false,
     "start_time": "2024-06-03T21:01:19.110827",
     "status": "completed"
    },
    "tags": []
   },
   "source": []
  }
 ],
 "metadata": {
  "kaggle": {
   "accelerator": "none",
   "dataSources": [
    {
     "datasetId": 3981704,
     "sourceId": 6934258,
     "sourceType": "datasetVersion"
    }
   ],
   "dockerImageVersionId": 30715,
   "isGpuEnabled": false,
   "isInternetEnabled": false,
   "language": "python",
   "sourceType": "notebook"
  },
  "kernelspec": {
   "display_name": "Python 3",
   "language": "python",
   "name": "python3"
  },
  "language_info": {
   "codemirror_mode": {
    "name": "ipython",
    "version": 3
   },
   "file_extension": ".py",
   "mimetype": "text/x-python",
   "name": "python",
   "nbconvert_exporter": "python",
   "pygments_lexer": "ipython3",
   "version": "3.10.13"
  },
  "papermill": {
   "default_parameters": {},
   "duration": 12.300715,
   "end_time": "2024-06-03T21:01:19.784411",
   "environment_variables": {},
   "exception": null,
   "input_path": "__notebook__.ipynb",
   "output_path": "__notebook__.ipynb",
   "parameters": {},
   "start_time": "2024-06-03T21:01:07.483696",
   "version": "2.5.0"
  }
 },
 "nbformat": 4,
 "nbformat_minor": 5
}
